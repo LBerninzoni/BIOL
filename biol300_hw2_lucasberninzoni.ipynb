{
  "nbformat": 4,
  "nbformat_minor": 0,
  "metadata": {
    "colab": {
      "name": "biol300_hw2_lucasberninzoni.ipynb",
      "provenance": [],
      "collapsed_sections": [],
      "toc_visible": true,
      "include_colab_link": true
    },
    "kernelspec": {
      "name": "python3",
      "display_name": "Python 3"
    },
    "language_info": {
      "name": "python"
    }
  },
  "cells": [
    {
      "cell_type": "markdown",
      "metadata": {
        "id": "view-in-github",
        "colab_type": "text"
      },
      "source": [
        "<a href=\"https://colab.research.google.com/github/LBerninzoni/BIOL300/blob/main/biol300_hw2_lucasberninzoni.ipynb\" target=\"_parent\"><img src=\"https://colab.research.google.com/assets/colab-badge.svg\" alt=\"Open In Colab\"/></a>"
      ]
    },
    {
      "cell_type": "code",
      "metadata": {
        "id": "swcTzyQY-hLV"
      },
      "source": [
        "import random"
      ],
      "execution_count": null,
      "outputs": []
    },
    {
      "cell_type": "markdown",
      "source": [
        "# Exercise 0: Practicing using GitHub (10 points)\n",
        "\n",
        "We will be checking for commit messages, and to practice writing them, they will be worth points on this first assignment. To earn full points, *each* team member must submit *at least one* commit message during the process of working on this homework.\n",
        "\n"
      ],
      "metadata": {
        "id": "GBASCHbZfR5Z"
      }
    },
    {
      "cell_type": "markdown",
      "source": [
        "# Exercise 1a: Melting temperature calculator (10 pts)\n",
        "\n",
        "Let's say you want to make your own function for validating the design of a given PCR primer sequence. (Note many tools already exist [online](https://bioinfo.ut.ee/primer3-0.4.0/), but it's so much more satisfying to write your own!) As the first step, we want to calculate the melting temperature of a given primer sequence. We will use the following equation:\n",
        "\n",
        "$$ T_m = 81.5 + 0.41 \\times (\\%GC) - 675/N,$$\n",
        "\n",
        "where $T_m$ is the melting temperature in $^\\circ$C, %GC is the GC content (**in percent, not decimal!**), and $N$ is the length of the sequence. Write a function that will take in a DNA sequence, and output the melting temperature.\n",
        "\n",
        "Note you may want to make use of your `GC_content()` function from last week. You can redefine that function here to call it within the `melting_temp()` function below. "
      ],
      "metadata": {
        "id": "FuIxUcNuJ_nn"
      }
    },
    {
      "cell_type": "code",
      "source": [
        "def melting_temp(DNA_seq):\n",
        "  \"\"\"computes the melting temperature of provide DNA sequence\"\"\" \n",
        "  DNA_seq = \"ATCGACTAAGCTAGCATCGATGCG\"\n",
        "  G = DNA_seq.count(\"G\") # Count G nucleotides\n",
        "  C = DNA_seq.count(\"C\") # Count C nucleotides\n",
        "  N = len(DNA_seq) # Length of DNA sequence\n",
        "  GC = ((G + C)/N)*100 # %GC content\n",
        "  Tm = 81.5 + (0.41*GC)-(675/N) # Melting Temperature\n",
        "  return Tm"
      ],
      "metadata": {
        "id": "t0ST0C3HSDx1"
      },
      "execution_count": 88,
      "outputs": []
    },
    {
      "cell_type": "markdown",
      "source": [
        "A few tests are included below. "
      ],
      "metadata": {
        "id": "Bx-FbLRw1dZc"
      }
    },
    {
      "cell_type": "code",
      "source": [
        "# should be 71.8 (with rounding)\n",
        "melting_temp(\"ATCGATCAGTTACGATAGCCGAC\")"
      ],
      "metadata": {
        "id": "ofzHBx-61k0-",
        "colab": {
          "base_uri": "https://localhost:8080/"
        },
        "outputId": "b16b9087-ce17-4c30-e399-a5b8809c89f0"
      },
      "execution_count": 80,
      "outputs": [
        {
          "output_type": "execute_result",
          "data": {
            "text/plain": [
              "71.76086956521738"
            ]
          },
          "metadata": {},
          "execution_count": 80
        }
      ]
    },
    {
      "cell_type": "code",
      "source": [
        "# should be 64.5\n",
        "melting_temp(\"GCATCGATCGATTACGAC\")"
      ],
      "metadata": {
        "id": "51BsAfJF2JzA",
        "colab": {
          "base_uri": "https://localhost:8080/"
        },
        "outputId": "d0a695f7-ef34-40a3-931c-66c4775d728e"
      },
      "execution_count": 77,
      "outputs": [
        {
          "output_type": "execute_result",
          "data": {
            "text/plain": [
              "64.5"
            ]
          },
          "metadata": {},
          "execution_count": 77
        }
      ]
    },
    {
      "cell_type": "markdown",
      "metadata": {
        "id": "KVGco6Gx2Pk7"
      },
      "source": [
        "# Exercise 1b: Primer checker (20 pts)\n",
        "\n",
        "Let's now develop our full primer checker. For this, we will make reference to [ThermoFisher's guidlines for primer design](https://www.thermofisher.com/blog/behindthebench/pcr-primer-design-tips/). Specifically, your function should to make the following checks on a given DNA sequence:\n",
        "\n",
        "- GC content to be between 40 and 60%. (Again you can use your function from last week.)\n",
        "- Primer ends in a G or C\n",
        "- Length between 18 and 30 bases\n",
        "- Make sure the melting temperature is between 65$^\\circ$C and 75$^\\circ$C\n",
        "- Avoid strings of 4 of the same nucleotide (i.e. 'AAAA', 'CCCC', etc.)\n",
        "\n",
        "You'll want to check each of these rules in turn and `print` output to let the user know if they have violated any (or all!) of these design guidelines. If everything checks out, you can return the melting temperature so you can go about designing your PCR reaction!\n",
        "\n",
        "Note there are *a lot* of checks to do here. To keep the `primer_checker()` function more manageable, you may want to write some other smaller functions that you can call in this main function. How you approach the code is up to you.  \n"
      ]
    },
    {
      "cell_type": "code",
      "metadata": {
        "id": "qboZAu4-2tmO"
      },
      "source": [
        "def primer_checker(DNA_seq):\n",
        "  \"\"\"Provides output (in the form of print statements) to the user,\n",
        "  letting them know if the primer sequence has any design flaw.\n",
        "  Otherwise, returns the melting temperature\"\"\"\n",
        "  good_primer = True\n",
        "\n",
        "  DNA_seq = \"ATCGACTAAGCTAGCATCGATGCG\"\n",
        "  G = DNA_seq.count(\"G\") # Count G nucleotides\n",
        "  C = DNA_seq.count(\"C\") # Count C nucleotides\n",
        "  N = len(DNA_seq) # Length of DNA sequence\n",
        "  GC = ((G + C)/N)*100 # %GC content\n",
        "  if GC < 40: # Check to see if GC content below 40\n",
        "    good_primer = False\n",
        "    print(\"GC content is too low\")\n",
        "  if GC > 60: # Check to see if GC content above 60\n",
        "    good_primer = False\n",
        "    print(\"GC content is too high\")\n",
        "  else: \n",
        "   if len(DNA_seq) < 18:\n",
        "    good_primer = False\n",
        "    print(\"DNA sequence is too short\")\n",
        "   if len(DNA_seq) > 30:\n",
        "    good_primer = False\n",
        "    print(\"DNA sequence is too long\")\n",
        "   else:\n",
        "    if DNA_seq[-1] not in [\"G\",\"C\"]: # Check to see if primer ends in G or C\n",
        "     good_primer = False\n",
        "     print(\"Primer does not end in G or C\")\n",
        "    else:\n",
        "     Tm = 81.5 + (0.41*GC)-(675/N) # Melting Temperature\n",
        "     if Tm < 65:\n",
        "      good_primer = False\n",
        "      print(\"Melting Temperature is too low\")\n",
        "     if Tm > 75:\n",
        "      good_primer = False\n",
        "      print(\"Melting Temperature is too high\")\n",
        "     else:\n",
        "      # Check for repeats in nucleotides\n",
        "      bad_seq = [\"AAAA\", \"CCCC\", \"TTTT\", \"GGGG\"]\n",
        "      for i in range(len(DNA_seq)):\n",
        "       if DNA_seq[i:i+4] in bad_seq:\n",
        "        good_primer = False\n",
        "        print(\"Sequence has 4 of same nucleotide in row\")\n",
        "        break\n",
        "  if good_primer:\n",
        "    return melting_temp(DNA_seq)\n",
        "  # make sure to return the melting temperature, if everything checks out!\n",
        "  return "
      ],
      "execution_count": 89,
      "outputs": []
    },
    {
      "cell_type": "markdown",
      "source": [
        "# Exercise 1c: Testing your primer checker (10)\n",
        "\n",
        "For each of the five rules we put in place for good primer design, test out your function below to demonstrate that it responds appropriately for when the rule is followed and when the rule is broken. "
      ],
      "metadata": {
        "id": "V-UULDT-U4s8"
      }
    },
    {
      "cell_type": "code",
      "source": [
        "primer_checker(\"ATCGACTAAGCTAGCATCGATGCG\")"
      ],
      "metadata": {
        "colab": {
          "base_uri": "https://localhost:8080/"
        },
        "id": "bxCbrndYk4tQ",
        "outputId": "bf21e476-b34d-400a-81e7-f76ecffcc887"
      },
      "execution_count": 90,
      "outputs": [
        {
          "output_type": "execute_result",
          "data": {
            "text/plain": [
              "73.875"
            ]
          },
          "metadata": {},
          "execution_count": 90
        }
      ]
    },
    {
      "cell_type": "markdown",
      "metadata": {
        "id": "tvlp-tg74q24"
      },
      "source": [
        "# Exercise 2: Mutate sequence (20 points)\n",
        "\n",
        "Last time we wrote code to mutate a single nucleotide to another nucleotide. Now we will expand the functionality to mutagenize an entire DNA sequence at a specified mutation rate. For example, if we have a DNA sequence of length ten and mutagenize at rate 0.1, we would expect *on average* one nucleotide to get mutated, but it may very well happen that more than one (or no) nucleotides get mutated. You may want to reference [Python's documentation about the random module](https://docs.python.org/3/library/random.html) for functions that may help you here."
      ]
    },
    {
      "cell_type": "code",
      "source": [
        "import random\n",
        "def mutate_nt(nt):\n",
        "  \"\"\"Returns a randomly selected mutated nucleotide from the inputted \n",
        "  nucleotide\"\"\"\n",
        "  # Return random nucleotide from list \n",
        "  nuc = [\"A\",\"T\",\"C\",\"G\"] # All possible nucleotides\n",
        "  nuc.remove(nt) # Removes nt\n",
        "  return random.choice(nuc) "
      ],
      "metadata": {
        "id": "RHqVXBzlGsvO"
      },
      "execution_count": 1,
      "outputs": []
    },
    {
      "cell_type": "code",
      "metadata": {
        "id": "mRuQLEqX45fV"
      },
      "source": [
        "def mutate_seq(DNA_seq, mut_rate):\n",
        "  \"\"\"Returns a mutated DNA sequence at the mutation rate provided\"\"\"\n",
        " \n",
        "  DNA_seq = \"ACGTGATAAG\" # DNA sequence\n",
        "  mut_rate = 0.1 # Provided mutation rate\n",
        "  DNA = list(DNA_seq) # Turn DNA string into list\n",
        "  for i in range(len(DNA)): # Define i from 0 to length of DNA sequence\n",
        "    rand_mut = random.random()  # Generate random decimal from 0 to 1\n",
        "    if rand_mut < mut_rate: \n",
        "      rand_nuc = mutate_nt(DNA[i]) # Mutate random nucleotide(s) in sequence\n",
        "      DNA[i] = rand_nuc \n",
        "  DNA_seq = \"\".join(DNA)\n",
        "  return DNA_seq"
      ],
      "execution_count": 101,
      "outputs": []
    },
    {
      "cell_type": "code",
      "source": [
        "print(mutate_seq(\"ACGTGATAAG\", 0.1))"
      ],
      "metadata": {
        "colab": {
          "base_uri": "https://localhost:8080/"
        },
        "id": "fFctNbdcAPgN",
        "outputId": "29ebb8f4-7205-467e-a1b7-302f7d5b8929"
      },
      "execution_count": 102,
      "outputs": [
        {
          "output_type": "stream",
          "name": "stdout",
          "text": [
            "ACGTGATCAG\n"
          ]
        }
      ]
    },
    {
      "cell_type": "markdown",
      "source": [
        "Make sure to try your code out on a few sequence to see that they do in fact mutate!"
      ],
      "metadata": {
        "id": "54C6yndqYovp"
      }
    },
    {
      "cell_type": "markdown",
      "metadata": {
        "id": "28Ho4WoHARJe"
      },
      "source": [
        "# Exercise 3: ORF finder (30 pts)\n",
        "\n",
        "Again building off the code we wrote last time, we will now write an Open Reading Frame (ORF) finder. This means rather than just blinding translating from the start of the provided DNA sequence, we will want to be mindful of start codons and various reading frames. Your function should return a `list` of possible ORFs translated into amino acid sequences, considering all possible start codons in all possible reading frames. \n",
        "\n",
        "As an example, your code may output something like:\n",
        "`[\"MRPSLRAMHGAVRT*\",\"MHGAVRT*\",\"MAETMLP\",\"MLP\"]`, where some ORFs can be a subset of another ORFs, and some ORFs don't have a terminating stop codon because they've reached the end of the provided sequence.\n",
        "\n",
        "Again, we need to define the dictionary for corresponding codons to amino acids. "
      ]
    },
    {
      "cell_type": "code",
      "metadata": {
        "id": "PZ3ta2PRA3GR"
      },
      "source": [
        "aa_dict = \\\n",
        "{'TTT': 'F', 'TTC': 'F', 'TTA': 'L', 'TTG': 'L', 'TCT': 'S', 'TCC': 'S', \n",
        " 'TCA': 'S', 'TCG': 'S', 'TAT': 'Y', 'TAC': 'Y', 'TAA': '*', 'TAG': '*', \n",
        " 'TGT': 'C', 'TGC': 'C', 'TGA': '*', 'TGG': 'W', 'CTT': 'L', 'CTC': 'L', \n",
        " 'CTA': 'L', 'CTG': 'L', 'CCT': 'P', 'CCC': 'P', 'CCA': 'P', 'CCG': 'P', \n",
        " 'CAT': 'H', 'CAC': 'H', 'CAA': 'Q', 'CAG': 'Q', 'CGT': 'R', 'CGC': 'R', \n",
        " 'CGA': 'R', 'CGG': 'R', 'ATT': 'I', 'ATC': 'I', 'ATA': 'I', 'ATG': 'M', \n",
        " 'ACT': 'T', 'ACC': 'T', 'ACA': 'T', 'ACG': 'T', 'AAT': 'N', 'AAC': 'N', \n",
        " 'AAA': 'K', 'AAG': 'K', 'AGT': 'S', 'AGC': 'S', 'AGA': 'R', 'AGG': 'R', \n",
        " 'GTT': 'V', 'GTC': 'V', 'GTA': 'V', 'GTG': 'V', 'GCT': 'A', 'GCC': 'A', \n",
        " 'GCA': 'A', 'GCG': 'A', 'GAT': 'D', 'GAC': 'D', 'GAA': 'E', 'GAG': 'E', \n",
        " 'GGT': 'G', 'GGC': 'G', 'GGA': 'G', 'GGG': 'G'}"
      ],
      "execution_count": 64,
      "outputs": []
    },
    {
      "cell_type": "markdown",
      "source": [
        "And now you can write your function."
      ],
      "metadata": {
        "id": "btJlEdNvhjYO"
      }
    },
    {
      "cell_type": "code",
      "source": [
        "def translate(DNA_seq):\n",
        "  \"\"\"Returns a string of the amino acid sequence that results from translating\n",
        "  the inputted DNA sequence\"\"\"\n",
        "\n",
        "  aa_seq = \"\" \n",
        "  for i in range(0, len(DNA_seq), 3):\n",
        "    codon = DNA_seq[i:i+3] # Set up codons as groups of three nucleotides\n",
        "    aa = aa_dict[codon] # Determine codons based on amino acids\n",
        "    aa_seq = aa_seq + aa # Append new amino acid to sequence\n",
        "    if aa == \"*\": # Look for stop codon\n",
        "      return aa_seq # Stop loop at stop codon\n",
        "  return "
      ],
      "metadata": {
        "id": "i0duuuixg8P1"
      },
      "execution_count": 159,
      "outputs": []
    },
    {
      "cell_type": "code",
      "source": [
        "print(translate(\"ATGTGGAGACCAATGGGGTCAAACATGACGTACACCGGGAATTAG\"))"
      ],
      "metadata": {
        "colab": {
          "base_uri": "https://localhost:8080/"
        },
        "id": "YWmyyUTEHJt2",
        "outputId": "cb364333-9a6a-4f48-fd17-6d0850a603a5"
      },
      "execution_count": 149,
      "outputs": [
        {
          "output_type": "stream",
          "name": "stdout",
          "text": [
            "MWRPMGSNMTYTGN*\n"
          ]
        }
      ]
    },
    {
      "cell_type": "code",
      "metadata": {
        "id": "lvLfVDqPHH9B"
      },
      "source": [
        "def ORF_finder(DNA_seq):\n",
        "  \"\"\"Returns a list of all translated ORFs in the provided\n",
        "  DNA sequence\"\"\"\n",
        "  \n",
        "  ORFs = []\n",
        "  for i in range(0,len(DNA_seq),3): \n",
        "    if (DNA_seq[i:i+3]) == \"ATG\": # Search for start codon in sequence\n",
        "      ORF = translate(DNA_seq[i:]) # Translate \n",
        "      ORFs.append(ORF) # Append possible ORF to list\n",
        "  return ORFs"
      ],
      "execution_count": 157,
      "outputs": []
    },
    {
      "cell_type": "code",
      "source": [
        "ORF_finder(\"ATGTGGAGACCAATGGGGTCAAACATGACGTACACCGGGAATTAG\")"
      ],
      "metadata": {
        "colab": {
          "base_uri": "https://localhost:8080/"
        },
        "id": "2MfTatvXLZqv",
        "outputId": "43641a6b-0f37-44a3-ae50-cdac49a8f6ce"
      },
      "execution_count": 158,
      "outputs": [
        {
          "output_type": "execute_result",
          "data": {
            "text/plain": [
              "['MWRPMGSNMTYTGN*', 'MGSNMTYTGN*', 'MTYTGN*']"
            ]
          },
          "metadata": {},
          "execution_count": 158
        }
      ]
    },
    {
      "cell_type": "markdown",
      "source": [
        "Test out your function on a few inputs to make sure it works as expected. A few things you may want to check for:\n",
        "- Does your function find multiple ORFs?\n",
        "- Does your function find overlapping ORFs?\n",
        "- Does your function find ORFs in different reading frames?\n",
        "\n"
      ],
      "metadata": {
        "id": "HCFfDpmECglS"
      }
    },
    {
      "cell_type": "markdown",
      "metadata": {
        "id": "tO945D2MK87G"
      },
      "source": [
        "# How long did this take? \n",
        "\n",
        "With a new course and new assignments, I want to be conscientious with how much time this course takes. Please let me know how long this took, so I can adjust future homeworks if needed.\n",
        "\n",
        "# References\n",
        "\n",
        "If you referenced any external sources for completing this homework, please list them below. (Just the links are fine.)\n",
        "\n",
        "# Submitting your homework\n",
        "\n",
        "Please make sure to state what each group member contribute and have each group member \"sign off\" that they agree they are satisfied with the final submission of this homework.\n",
        "\n",
        "You will submit this homework (and all subsequent homeworks via GitHub). Unless you have an approved extension or opt to submit the homework late (with a 10% deduction per day), your homework will be graded based on what is submitted on GitHub at the time of the deadline. So don't forget to push! "
      ]
    }
  ]
}